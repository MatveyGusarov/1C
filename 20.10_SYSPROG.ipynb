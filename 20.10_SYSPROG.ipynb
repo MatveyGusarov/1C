{
 "cells": [
  {
   "cell_type": "markdown",
   "source": [
    "**Задача №4**\n",
    "\n",
    "Для решения этой задачи был использован следующий алгоритм:\n",
    "\n",
    "    Чтение файлов:\n",
    "        Прочитать содержимое всех файлов из каждой директории и сохранить их содержимое в словарях (один для каждой директории). Ключом будет содержимое файла, а значением - имя файла. Это поможет нам находить идентичные файлы, несмотря на различия в именах.\n",
    "\n",
    "    Поиск идентичных файлов:\n",
    "        Сравнить содержимое файлов из двух директорий. Если содержимое файла из первой директории есть в словаре второй директории (и наоборот), то файлы идентичны.\n",
    "\n",
    "    Поиск похожих файлов:\n",
    "        Для каждой пары файлов из двух директорий, сравнить их содержимое и определить процент сходства. Если процент сходства выше или равен указанному Тони, то файлы похожи.\n",
    "\n",
    "    Определение отсутствующих файлов:\n",
    "        Найти файлы, которые присутствуют в первой директории, но отсутствуют во второй (и наоборот)."
   ],
   "metadata": {
    "collapsed": false
   }
  },
  {
   "cell_type": "code",
   "execution_count": null,
   "outputs": [],
   "source": [
    "import os\n",
    "\n",
    "def compare_files(directory1, directory2, similarity_threshold):\n",
    "    # Reading files from both directories\n",
    "    dir1_files = {open(os.path.join(directory1, f), \"rb\").read(): f for f in os.listdir(directory1)}\n",
    "    dir2_files = {open(os.path.join(directory2, f), \"rb\").read(): f for f in os.listdir(directory2)}\n",
    "\n",
    "    identical_files = []\n",
    "    similar_files = []\n",
    "    missing_in_dir2 = []\n",
    "    missing_in_dir1 = []\n",
    "\n",
    "    # Identical files\n",
    "    for content, file1 in dir1_files.items():\n",
    "        if content in dir2_files:\n",
    "            identical_files.append((os.path.join(directory1, file1), os.path.join(directory2, dir2_files[content])))\n",
    "\n",
    "    # Similar files\n",
    "    for content1, file1 in dir1_files.items():\n",
    "        for content2, file2 in dir2_files.items():\n",
    "            # Avoiding comparing identical files again\n",
    "            if content1 == content2:\n",
    "                continue\n",
    "\n",
    "            # Calculate similarity percentage\n",
    "            common = len(set(content1) & set(content2))\n",
    "            total_length = max(len(content1), len(content2))\n",
    "            percentage = (common / total_length) * 100\n",
    "\n",
    "            if percentage >= similarity_threshold:\n",
    "                similar_files.append((os.path.join(directory1, file1), os.path.join(directory2, file2), percentage))\n",
    "\n",
    "    # Missing in dir2\n",
    "    for content, file1 in dir1_files.items():\n",
    "        if content not in dir2_files:\n",
    "            missing_in_dir2.append(os.path.join(directory1, file1))\n",
    "\n",
    "    # Missing in dir1\n",
    "    for content, file2 in dir2_files.items():\n",
    "        if content not in dir1_files:\n",
    "            missing_in_dir1.append(os.path.join(directory2, file2))\n",
    "\n",
    "    return identical_files, similar_files, missing_in_dir2, missing_in_dir1\n",
    "\n",
    "# Example usage:\n",
    "directory1 = \"/path/to/directory1\"\n",
    "directory2 = \"/path/to/directory2\"\n",
    "similarity_threshold = 70  # example value\n",
    "\n",
    "identical, similar, missing_in_2, missing_in_1 = compare_files(directory1, directory2, similarity_threshold)\n",
    "print(\"Identical Files:\", identical)\n",
    "print(\"Similar Files:\", similar)\n",
    "print(\"Files in Directory 1 but not in Directory 2:\", missing_in_2)\n",
    "print(\"Files in Directory 2 but not in Directory 1:\", missing_in_1)"
   ],
   "metadata": {
    "collapsed": false
   }
  }
 ],
 "metadata": {
  "kernelspec": {
   "display_name": "Python 3",
   "language": "python",
   "name": "python3"
  },
  "language_info": {
   "codemirror_mode": {
    "name": "ipython",
    "version": 2
   },
   "file_extension": ".py",
   "mimetype": "text/x-python",
   "name": "python",
   "nbconvert_exporter": "python",
   "pygments_lexer": "ipython2",
   "version": "2.7.6"
  }
 },
 "nbformat": 4,
 "nbformat_minor": 0
}
